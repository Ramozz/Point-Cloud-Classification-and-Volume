{
 "cells": [
  {
   "cell_type": "code",
   "execution_count": 1,
   "metadata": {},
   "outputs": [
    {
     "name": "stderr",
     "output_type": "stream",
     "text": [
      "Using TensorFlow backend.\n"
     ]
    }
   ],
   "source": [
    "import numpy as np\n",
    "import os\n",
    "import tensorflow as tf\n",
    "from keras import optimizers\n",
    "from keras.layers import Input\n",
    "from keras.models import Model\n",
    "from keras.layers import Dense, Flatten, Reshape, Dropout\n",
    "from keras.layers import Convolution1D, MaxPooling1D, BatchNormalization\n",
    "from keras.layers import Lambda\n",
    "from keras.utils import np_utils\n",
    "from keras.utils.np_utils import to_categorical\n",
    "from keras.callbacks import ModelCheckpoint\n",
    "import h5py\n",
    "\n",
    "#multiplies 2 matricies\n",
    "def mat_mul(A, B):\n",
    "    return tf.matmul(A, B)\n",
    "\n",
    "#Reads hdf5 files\n",
    "def load_h5(h5_filename):\n",
    "    f = h5py.File(h5_filename)\n",
    "    data = f['data'][:]\n",
    "    label = f['label'][:]\n",
    "    return (data, label)\n",
    "\n",
    "#Applies random rotation angles to random point clouds\n",
    "def rotate_point_cloud(batch_data):\n",
    "    rotated_data = np.zeros(batch_data.shape, dtype=np.float32)\n",
    "    for k in range(batch_data.shape[0]):\n",
    "        rotation_angle = np.random.uniform() * 2 * np.pi\n",
    "        cosval = np.cos(rotation_angle)\n",
    "        sinval = np.sin(rotation_angle)\n",
    "        rotation_matrix = np.array([[cosval, 0, sinval], [0, 1, 0], [-sinval, 0, cosval]])\n",
    "        shape_pc = batch_data[k, ...]\n",
    "        rotated_data[k, ...] = np.dot(shape_pc.reshape((-1, 3)), rotation_matrix)\n",
    "    return rotated_data\n",
    "\n",
    "#adds noice to some random points\n",
    "def jitter_point_cloud(batch_data, sigma=0.01, clip=0.05):\n",
    "    B, N, C = batch_data.shape\n",
    "    print(B , N , C)\n",
    "    assert(clip > 0)\n",
    "    jittered_data = np.clip(sigma * np.random.randn(B, N, C), -1 * clip, clip)\n",
    "    jittered_data += batch_data\n",
    "    return jittered_data\n"
   ]
  },
  {
   "cell_type": "code",
   "execution_count": 2,
   "metadata": {
    "collapsed": true
   },
   "outputs": [
    {
     "name": "stdout",
     "output_type": "stream",
     "text": [
      "[name: \"/device:CPU:0\"\n",
      "device_type: \"CPU\"\n",
      "memory_limit: 268435456\n",
      "locality {\n",
      "}\n",
      "incarnation: 15020959994319902239\n",
      "]\n"
     ]
    }
   ],
   "source": [
    "#checking for gpu in keras\n",
    "import keras\n",
    "\n",
    "from tensorflow.python.client import device_lib\n",
    "print(device_lib.list_local_devices())\n"
   ]
  },
  {
   "cell_type": "code",
   "execution_count": 2,
   "metadata": {
    "collapsed": true
   },
   "outputs": [
    {
     "name": "stderr",
     "output_type": "stream",
     "text": [
      "WARNING: Logging before flag parsing goes to stderr.\n",
      "W0828 11:45:35.167169 10440 deprecation_wrapper.py:119] From C:\\Anaconda\\lib\\site-packages\\keras\\backend\\tensorflow_backend.py:74: The name tf.get_default_graph is deprecated. Please use tf.compat.v1.get_default_graph instead.\n",
      "\n",
      "W0828 11:45:35.169088 10440 deprecation_wrapper.py:119] From C:\\Anaconda\\lib\\site-packages\\keras\\backend\\tensorflow_backend.py:517: The name tf.placeholder is deprecated. Please use tf.compat.v1.placeholder instead.\n",
      "\n",
      "W0828 11:45:35.176933 10440 deprecation_wrapper.py:119] From C:\\Anaconda\\lib\\site-packages\\keras\\backend\\tensorflow_backend.py:4138: The name tf.random_uniform is deprecated. Please use tf.random.uniform instead.\n",
      "\n",
      "W0828 11:45:35.320442 10440 deprecation_wrapper.py:119] From C:\\Anaconda\\lib\\site-packages\\keras\\backend\\tensorflow_backend.py:133: The name tf.placeholder_with_default is deprecated. Please use tf.compat.v1.placeholder_with_default instead.\n",
      "\n",
      "W0828 11:45:35.564258 10440 deprecation_wrapper.py:119] From C:\\Anaconda\\lib\\site-packages\\keras\\backend\\tensorflow_backend.py:3976: The name tf.nn.max_pool is deprecated. Please use tf.nn.max_pool2d instead.\n",
      "\n",
      "W0828 11:45:35.819559 10440 deprecation_wrapper.py:119] From C:\\Anaconda\\lib\\site-packages\\keras\\backend\\tensorflow_backend.py:174: The name tf.get_default_session is deprecated. Please use tf.compat.v1.get_default_session instead.\n",
      "\n",
      "W0828 11:45:37.894839 10440 deprecation.py:506] From C:\\Anaconda\\lib\\site-packages\\keras\\backend\\tensorflow_backend.py:3445: calling dropout (from tensorflow.python.ops.nn_ops) with keep_prob is deprecated and will be removed in a future version.\n",
      "Instructions for updating:\n",
      "Please use `rate` instead of `keep_prob`. Rate should be set to `rate = 1 - keep_prob`.\n",
      "W0828 11:45:37.895843 10440 nn_ops.py:4224] Large dropout rate: 0.7 (>0.5). In TensorFlow 2.x, dropout() uses dropout rate instead of keep_prob. Please ensure that this is intended.\n",
      "W0828 11:45:38.048597 10440 nn_ops.py:4224] Large dropout rate: 0.7 (>0.5). In TensorFlow 2.x, dropout() uses dropout rate instead of keep_prob. Please ensure that this is intended.\n"
     ]
    }
   ],
   "source": [
    "# number of points in each sample\n",
    "num_points = 2048\n",
    "\n",
    "# number of categories\n",
    "k = 7 # 0 big parallelepipeds, 1 small parallelepipeds , 2 small spheres, 3 big spheres, 4 cubes, 5 cylinders, 6 pyramids\n",
    "\n",
    "# define optimizer\n",
    "adam = optimizers.Adam(lr=0.005, decay=0.7)\n",
    "\n",
    "# Pointnet Architecture\n",
    "\n",
    "# Input Transformation net\n",
    "input_points = Input(shape=(num_points, 3))\n",
    "x = Convolution1D(64, 1, activation='relu',input_shape=(num_points, 3))(input_points)\n",
    "x = BatchNormalization()(x)\n",
    "x = Convolution1D(128, 1, activation='relu')(x)\n",
    "x = BatchNormalization()(x)\n",
    "x = Convolution1D(1024, 1, activation='relu')(x)\n",
    "x = BatchNormalization()(x)\n",
    "x = MaxPooling1D(pool_size=num_points)(x)\n",
    "x = Dense(512, activation='relu')(x)\n",
    "x = BatchNormalization()(x)\n",
    "x = Dense(256, activation='relu')(x)\n",
    "x = BatchNormalization()(x)\n",
    "x = Dense(9, weights=[np.zeros([256, 9]), np.array([1, 0, 0, 0, 1, 0, 0, 0, 1]).astype(np.float32)])(x)\n",
    "input_T = Reshape((3, 3))(x)\n",
    "\n",
    "# Forward net\n",
    "g = Lambda(mat_mul, arguments={'B': input_T})(input_points)\n",
    "g = Convolution1D(64, 1, input_shape=(num_points, 3), activation='relu')(g)\n",
    "g = BatchNormalization()(g)\n",
    "g = Convolution1D(64, 1, input_shape=(num_points, 3), activation='relu')(g)\n",
    "g = BatchNormalization()(g)\n",
    "\n",
    "# Feature Transform net\n",
    "f = Convolution1D(64, 1, activation='relu')(g)\n",
    "f = BatchNormalization()(f)\n",
    "f = Convolution1D(128, 1, activation='relu')(f)\n",
    "f = BatchNormalization()(f)\n",
    "f = Convolution1D(1024, 1, activation='relu')(f)\n",
    "f = BatchNormalization()(f)\n",
    "f = MaxPooling1D(pool_size=num_points)(f)\n",
    "f = Dense(512, activation='relu')(f)\n",
    "f = BatchNormalization()(f)\n",
    "f = Dense(256, activation='relu')(f)\n",
    "f = BatchNormalization()(f)\n",
    "f = Dense(64 * 64, weights=[np.zeros([256, 64 * 64]), np.eye(64).flatten().astype(np.float32)])(f)\n",
    "feature_T = Reshape((64, 64))(f)\n",
    "\n",
    "# Forward net\n",
    "g = Lambda(mat_mul, arguments={'B': feature_T})(g)\n",
    "g = Convolution1D(64, 1, activation='relu')(g)\n",
    "g = BatchNormalization()(g)\n",
    "g = Convolution1D(128, 1, activation='relu')(g)\n",
    "g = BatchNormalization()(g)\n",
    "g = Convolution1D(1024, 1, activation='relu')(g)\n",
    "g = BatchNormalization()(g)\n",
    "\n",
    "# Global_feature\n",
    "global_feature = MaxPooling1D(pool_size=num_points)(g)\n",
    "\n",
    "# Point_net_classification\n",
    "c = Dense(512, activation='relu')(global_feature)\n",
    "c = BatchNormalization()(c)\n",
    "c = Dropout(rate=0.7)(c)\n",
    "c = Dense(256, activation='relu')(c)\n",
    "c = BatchNormalization()(c)\n",
    "c = Dropout(rate=0.7)(c)\n",
    "c = Dense(k, activation='softmax')(c)\n",
    "prediction = Flatten()(c)\n",
    "\n",
    "model = Model(inputs=input_points, outputs=prediction)"
   ]
  },
  {
   "cell_type": "code",
   "execution_count": 4,
   "metadata": {
    "collapsed": true
   },
   "outputs": [
    {
     "name": "stdout",
     "output_type": "stream",
     "text": [
      "C:\\Users\\João Ramos\\Documents\\Jupyter\\Tese\\Dataset/Train\n",
      "['file1.h5']\n",
      "C:\\Users\\João Ramos\\Documents\\Jupyter\\Tese\\Dataset/Test\n",
      "['file2.h5']\n",
      "Created\n"
     ]
    }
   ],
   "source": [
    "#loads the hdf5 files to fit and test the network\n",
    "\n",
    "# load train points and labels\n",
    "path = os.path.dirname(os.path.realpath(\"train_cls.py\")) #current path\n",
    "train_path = os.path.join(path, \"Dataset/Train\")\n",
    "filenames = [d for d in os.listdir(train_path)]\n",
    "print(train_path)\n",
    "print(filenames)\n",
    "train_points = None\n",
    "train_labels = None\n",
    "for d in filenames:\n",
    "    cur_points, cur_labels = load_h5(os.path.join(train_path, d))\n",
    "    cur_points = cur_points.reshape(1, -1, 3)\n",
    "    cur_labels = cur_labels.reshape(1, -1)\n",
    "    if train_labels is None or train_points is None:\n",
    "        train_labels = cur_labels\n",
    "        train_points = cur_points\n",
    "    else:\n",
    "        train_labels = np.hstack((train_labels, cur_labels))\n",
    "        train_points = np.hstack((train_points, cur_points))\n",
    "        \n",
    "train_points_r = train_points.reshape(-1, num_points, 3)\n",
    "train_labels_r = train_labels.reshape(-1, 1)\n",
    "\n",
    "# load test points and labels\n",
    "test_path = os.path.join(path, \"Dataset/Test\")\n",
    "filenames = [d for d in os.listdir(test_path)]\n",
    "print(test_path)\n",
    "print(filenames)\n",
    "test_points = None\n",
    "test_labels = None\n",
    "for d in filenames:\n",
    "    cur_points, cur_labels = load_h5(os.path.join(test_path, d))\n",
    "    cur_points = cur_points.reshape(1, -1, 3)\n",
    "    cur_labels = cur_labels.reshape(1, -1)\n",
    "    if test_labels is None or test_points is None:\n",
    "        test_labels = cur_labels\n",
    "        test_points = cur_points\n",
    "    else:\n",
    "        test_labels = np.hstack((test_labels, cur_labels))\n",
    "        test_points = np.hstack((test_points, cur_points))\n",
    "        \n",
    "test_points_r = test_points.reshape(-1, num_points, 3)\n",
    "test_labels_r = test_labels.reshape(-1, 1)\n",
    "\n",
    "checkpointer = ModelCheckpoint(filepath=test_path, monitor='val_acc', mode='max', verbose=0, save_best_only=True)"
   ]
  },
  {
   "cell_type": "code",
   "execution_count": 6,
   "metadata": {
    "collapsed": true
   },
   "outputs": [
    {
     "name": "stdout",
     "output_type": "stream",
     "text": [
      "[[-2.]\n",
      " [-2.]\n",
      " [-2.]\n",
      " [-2.]\n",
      " [-2.]\n",
      " [-2.]\n",
      " [-2.]\n",
      " [-2.]\n",
      " [-2.]\n",
      " [-2.]]\n",
      "Categorical\n"
     ]
    }
   ],
   "source": [
    "# label to categorical\n",
    "train_labels_r = train_labels_r -1\n",
    "test_labels_r = test_labels_r -1\n",
    "Y_train = np_utils.to_categorical(train_labels_r, k)\n",
    "Y_test = np_utils.to_categorical(test_labels_r, k)\n",
    "\n",
    "# compile classification model\n",
    "model.compile(optimizer='adam',\n",
    "              loss='categorical_crossentropy',\n",
    "              metrics=['accuracy'])\n"
   ]
  },
  {
   "cell_type": "code",
   "execution_count": 5,
   "metadata": {
    "collapsed": true
   },
   "outputs": [
    {
     "name": "stdout",
     "output_type": "stream",
     "text": [
      "Weights loaded !\n"
     ]
    }
   ],
   "source": [
    "#Loads pre-trained weights\n",
    "from keras.models import load_model\n",
    "\n",
    "model.load_weights('classification_weights.h5')\n",
    "print(\"Weights loaded !\")"
   ]
  },
  {
   "cell_type": "code",
   "execution_count": null,
   "metadata": {
    "collapsed": true
   },
   "outputs": [
    {
     "name": "stdout",
     "output_type": "stream",
     "text": [
      "12227 1024 3\n"
     ]
    },
    {
     "name": "stderr",
     "output_type": "stream",
     "text": [
      "W0820 23:49:35.997382  5392 deprecation.py:323] From C:\\Anaconda\\lib\\site-packages\\tensorflow\\python\\ops\\math_grad.py:1250: add_dispatch_support.<locals>.wrapper (from tensorflow.python.ops.array_ops) is deprecated and will be removed in a future version.\n",
      "Instructions for updating:\n",
      "Use tf.where in 2.0, which has the same broadcast rule as np.where\n"
     ]
    },
    {
     "name": "stdout",
     "output_type": "stream",
     "text": [
      "Epoch 1/1\n",
      "  128/12227 [..............................] - ETA: 55:08 - loss: 3.3863 - acc: 0.1484  "
     ]
    }
   ],
   "source": [
    "# Fit model on training data\n",
    "\n",
    "for i in range(1,2): #number of epochs to train\n",
    "    \n",
    "    # rotate and jitter the points\n",
    "    train_points_rotate = rotate_point_cloud(train_points_r)\n",
    "    train_points_jitter = jitter_point_cloud(train_points_rotate)\n",
    "    model.fit(train_points_jitter, Y_train, batch_size=32, epochs=1, shuffle=True, verbose=1)\n",
    "    s = \"Current epoch is:\" + str(i)\n",
    "    print(s)\n",
    "    if i % 2 == 0:\n",
    "        score = model.evaluate(test_points_r, Y_test, verbose=1)\n",
    "        print('Test loss: ', score[0])\n",
    "        print('Test accuracy: ', score[1])\n"
   ]
  },
  {
   "cell_type": "code",
   "execution_count": 16,
   "metadata": {
    "collapsed": true
   },
   "outputs": [
    {
     "name": "stdout",
     "output_type": "stream",
     "text": [
      "Saved weights !\n"
     ]
    }
   ],
   "source": [
    "# save the trained weights\n",
    "model.save_weights('classification_weights.h5')\n",
    "print(\"Saved weights !\")"
   ]
  },
  {
   "cell_type": "code",
   "execution_count": 33,
   "metadata": {},
   "outputs": [
    {
     "name": "stdout",
     "output_type": "stream",
     "text": [
      "2\n"
     ]
    },
    {
     "data": {
      "image/png": "[encoded data removed]",
      "text/plain": [
       "<Figure size 432x288 with 1 Axes>"
      ]
     },
     "metadata": {
      "needs_background": "light"
     },
     "output_type": "display_data"
    }
   ],
   "source": [
    "#visualization of the point cloud predicted and its result\n",
    "\n",
    "import matplotlib.pyplot as plt\n",
    "from mpl_toolkits.mplot3d import Axes3D\n",
    "\n",
    "# select one test data to visualize\n",
    "fig = plt.figure()\n",
    "ax = fig.add_subplot(111, projection='3d')\n",
    "v_points = test_points_r[74:75,:,:] #point cloud selected\n",
    "pred = model.predict(v_points)\n",
    "pred = np.squeeze(pred)\n",
    "v_points = np.squeeze(v_points)\n",
    "pred = pred.tolist() \n",
    "\n",
    "#highest class result\n",
    "print (pred.index(max(pred)))\n",
    "\n",
    "\n",
    "for i in range(v_points.shape[0]):  \n",
    "    xs = v_points[i,0]\n",
    "    ys = v_points[i,1]\n",
    "    zs = v_points[i,2]\n",
    "    ax.scatter(xs, ys, zs)\n",
    "     \n",
    "\n",
    "ax.set_xlabel('X Label')\n",
    "ax.set_ylabel('Y Label')\n",
    "ax.set_zlabel('Z Label')\n",
    "plt.show()\n"
   ]
  },
  {
   "cell_type": "code",
   "execution_count": 34,
   "metadata": {
    "collapsed": true
   },
   "outputs": [
    {
     "name": "stdout",
     "output_type": "stream",
     "text": [
      "   Percentage\n",
      "2    0.343417\n",
      "3    0.306997\n",
      "0    0.152657\n"
     ]
    }
   ],
   "source": [
    "import pandas as pd\n",
    "\n",
    "results = pd.DataFrame(data = pred, columns = [\"Percentage\"])\n",
    "results.sort_values( by=['Percentage'], inplace=True, ascending = False)\n",
    "# 0 parallelepipeds, 1 spheres, 2 cubes, 3 cylinders, 4 pyramids\n",
    "# prints the 3 most probable classes and their percentage\n",
    "print (results.head(3))"
   ]
  }
 ],
 "metadata": {
  "kernelspec": {
   "display_name": "Python 3",
   "language": "python",
   "name": "python3"
  },
  "language_info": {
   "codemirror_mode": {
    "name": "ipython",
    "version": 3
   },
   "file_extension": ".py",
   "mimetype": "text/x-python",
   "name": "python",
   "nbconvert_exporter": "python",
   "pygments_lexer": "ipython3",
   "version": "3.6.8"
  }
 },
 "nbformat": 4,
 "nbformat_minor": 2
}
